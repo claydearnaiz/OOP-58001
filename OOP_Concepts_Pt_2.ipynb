{
  "nbformat": 4,
  "nbformat_minor": 0,
  "metadata": {
    "colab": {
      "provenance": [],
      "authorship_tag": "ABX9TyPAzoeM2I7At3S+h+U/HG4q",
      "include_colab_link": true
    },
    "kernelspec": {
      "name": "python3",
      "display_name": "Python 3"
    },
    "language_info": {
      "name": "python"
    }
  },
  "cells": [
    {
      "cell_type": "markdown",
      "metadata": {
        "id": "view-in-github",
        "colab_type": "text"
      },
      "source": [
        "<a href=\"https://colab.research.google.com/github/claydearnaiz/OOP-58001/blob/main/OOP_Concepts_Pt_2.ipynb\" target=\"_parent\"><img src=\"https://colab.research.google.com/assets/colab-badge.svg\" alt=\"Open In Colab\"/></a>"
      ]
    },
    {
      "cell_type": "markdown",
      "source": [
        "Class with Multiple Objects"
      ],
      "metadata": {
        "id": "gHulmAmmW23F"
      }
    },
    {
      "cell_type": "code",
      "source": [
        "class Birds:\n",
        "  def __init__(self, bird_name):\n",
        "    self.bird_name = bird_name\n",
        "  def flying_birds(self):\n",
        "    print(f\"{self.bird_name} flies above clouds\")\n",
        "  def non_flying_birds(self):\n",
        "    print(f\"{self.bird_name} is the national bird of the philippines\")\n",
        "\n",
        "vulture = Birds(\"Griffin Vulture\")\n",
        "crane = Birds(\"Common Crane\")\n",
        "emu = Birds(\"Emu\")\n",
        "\n",
        "vulture.flying_birds()\n",
        "crane.flying_birds()\n",
        "emu.non_flying_birds()"
      ],
      "metadata": {
        "colab": {
          "base_uri": "https://localhost:8080/"
        },
        "id": "MbRs9JMHW7u1",
        "outputId": "33958de3-3ae5-4d7f-9246-5859c71515d1"
      },
      "execution_count": 13,
      "outputs": [
        {
          "output_type": "stream",
          "name": "stdout",
          "text": [
            "Griffin Vulture flies above clouds\n",
            "Common Crane flies above clouds\n",
            "Emu is the national bird of the philippines\n"
          ]
        }
      ]
    },
    {
      "cell_type": "code",
      "source": [
        "class foo:\n",
        "  def __init__(self, a, b):\n",
        "    self.a = a\n",
        "    self.b = b\n",
        "\n",
        "  def add(self):\n",
        "    return self.a + self.b\n",
        "\n",
        "foo_object = foo(3,5)\n",
        "foo_object.add()\n",
        "\n"
      ],
      "metadata": {
        "colab": {
          "base_uri": "https://localhost:8080/"
        },
        "id": "ibMqS7LiZvT2",
        "outputId": "1a1698ab-8895-48ac-ef30-01bb8107a814"
      },
      "execution_count": 15,
      "outputs": [
        {
          "output_type": "execute_result",
          "data": {
            "text/plain": [
              "8"
            ]
          },
          "metadata": {},
          "execution_count": 15
        }
      ]
    },
    {
      "cell_type": "code",
      "source": [
        "#Encapsulation\n",
        "class foo:\n",
        "  def __init__(self, a, b):\n",
        "    self.__a = a\n",
        "    self.__b = b\n",
        "\n",
        "  def add(self):\n",
        "    return self.__a + self.__b\n",
        "\n",
        "foo_object = foo(3,5)\n",
        "foo_object.add()\n",
        "foo_object.a = 5\n",
        "foo_object.add()"
      ],
      "metadata": {
        "colab": {
          "base_uri": "https://localhost:8080/"
        },
        "id": "rm_O6ur6aUi_",
        "outputId": "fa8787a4-7cb5-405d-a08c-24aa7ea37960"
      },
      "execution_count": 20,
      "outputs": [
        {
          "output_type": "execute_result",
          "data": {
            "text/plain": [
              "8"
            ]
          },
          "metadata": {},
          "execution_count": 20
        }
      ]
    },
    {
      "cell_type": "code",
      "source": [
        "class Counter:\n",
        "  def __init__(self):\n",
        "    self.current = 0\n",
        "\n",
        "  def increment(self):\n",
        "    self.current += 1\n",
        "\n",
        "  def value(self):\n",
        "    return self.current\n",
        "\n",
        "  def reset(self):\n",
        "    self.current = 0\n",
        "\n"
      ],
      "metadata": {
        "id": "IsG05JPHcSpO"
      },
      "execution_count": 24,
      "outputs": []
    },
    {
      "cell_type": "code",
      "source": [
        "#Inheritance\n",
        "class Person:\n",
        "  def __init__(self, name, birthdate):\n",
        "    self.name = name\n",
        "    self.birthdate = birthdate\n",
        "\n",
        "  def display(self):\n",
        "    print(f\"My name is\",self.name)\n",
        "    print(f\"My birthdate is\",self.birthdate)\n",
        "\n",
        "class Student(Person):\n",
        "  pass\n",
        "class Teacher(Person):\n",
        "  pass\n",
        "\n",
        "\n",
        "student = Student(\"Clayde\",\"September 19, 2003\")\n",
        "student.display()\n",
        "teacher = Teacher(\"Ana\", \"Feb 14, 1990\")\n",
        "teacher.display()\n",
        "\n"
      ],
      "metadata": {
        "colab": {
          "base_uri": "https://localhost:8080/"
        },
        "id": "9fwglnPyeHIm",
        "outputId": "631dbd66-924d-479c-f0fe-35d1a22a2f9f"
      },
      "execution_count": 32,
      "outputs": [
        {
          "output_type": "stream",
          "name": "stdout",
          "text": [
            "My name is Clayde\n",
            "My birthdate is September 19, 2003\n",
            "My name is Ana\n",
            "My birthdate is Feb 14, 1990\n"
          ]
        }
      ]
    },
    {
      "cell_type": "code",
      "source": [
        "class Shapes:\n",
        "  def __init__(self, name, sides):\n",
        "    self.__sides = sides\n",
        "    self.__name = name\n",
        "  \n",
        "  def display(self):\n",
        "    print(\"The shape name is\",self.__name,\"and it has\", self.__sides, \"sides.\")\n",
        "\n",
        "class Triangle(Shapes):\n",
        "  pass\n",
        "class Square(Shapes):\n",
        "  pass\n",
        "class Pentagon(Shapes):\n",
        "  pass\n",
        "class Hexagon(Shapes):\n",
        "  pass\n",
        "class Octagon(Shapes):\n",
        "  pass\n",
        "\n",
        "triangle = Triangle(\"Triangle\" , 3)\n",
        "triangle.display()\n",
        "square = Square(\"Square\" , 4)\n",
        "square.display()\n",
        "pentagon = Pentagon(\"Pentagon\", 5)\n",
        "pentagon.display()\n",
        "hexagon = Hexagon(\"Hexagon\", 6)\n",
        "hexagon.display()\n",
        "octagon = Octagon(\"Octagon\", 8)\n",
        "octagon.display()\n",
        "\n"
      ],
      "metadata": {
        "colab": {
          "base_uri": "https://localhost:8080/"
        },
        "id": "PNzqYxiDg021",
        "outputId": "d0c0c51c-ba16-48bf-9e8c-a84045003fc8"
      },
      "execution_count": 49,
      "outputs": [
        {
          "output_type": "stream",
          "name": "stdout",
          "text": [
            "The shape name is Triangle and it has 3 sides.\n",
            "The shape name is Square and it has 4 sides.\n",
            "The shape name is Pentagon and it has 5 sides.\n",
            "The shape name is Hexagon and it has 6 sides.\n",
            "The shape name is Octagon and it has 8 sides.\n"
          ]
        }
      ]
    },
    {
      "cell_type": "code",
      "source": [
        "__"
      ],
      "metadata": {
        "id": "Ql3bDyvVgpz_"
      },
      "execution_count": null,
      "outputs": []
    }
  ]
}