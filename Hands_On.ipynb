{
  "nbformat": 4,
  "nbformat_minor": 0,
  "metadata": {
    "colab": {
      "provenance": [],
      "authorship_tag": "ABX9TyO5xVAbMwkAQvYdaGSgzq5P",
      "include_colab_link": true
    },
    "kernelspec": {
      "name": "python3",
      "display_name": "Python 3"
    },
    "language_info": {
      "name": "python"
    }
  },
  "cells": [
    {
      "cell_type": "markdown",
      "metadata": {
        "id": "view-in-github",
        "colab_type": "text"
      },
      "source": [
        "<a href=\"https://colab.research.google.com/github/claydearnaiz/OOP-58001/blob/main/Hands_On.ipynb\" target=\"_parent\"><img src=\"https://colab.research.google.com/assets/colab-badge.svg\" alt=\"Open In Colab\"/></a>"
      ]
    },
    {
      "cell_type": "code",
      "execution_count": 40,
      "metadata": {
        "colab": {
          "base_uri": "https://localhost:8080/"
        },
        "id": "VDZk_cpmZGGi",
        "outputId": "27f3332d-b1df-4779-f2ee-75ef76fccb86"
      },
      "outputs": [
        {
          "output_type": "stream",
          "name": "stdout",
          "text": [
            "This is Student 1\n",
            "\n",
            "Prelim Grade: 85\n",
            "\n",
            "Midterm Grade: 82\n",
            "\n",
            "Final Grade: 84\n",
            "\n",
            "Average: 83.67\n",
            "\n",
            "This is Student 2\n",
            "\n",
            "Prelim Grade: 81\n",
            "\n",
            "Midterm Grade: 86\n",
            "\n",
            "Final Grade: 89\n",
            "\n",
            "Average: 85.33\n",
            "\n",
            "This is Student 3\n",
            "\n",
            "Prelim Grade: 85\n",
            "\n",
            "Midterm Grade: 85\n",
            "\n",
            "Final Grade: 94\n",
            "\n",
            "Average: 88.0\n",
            "\n"
          ]
        }
      ],
      "source": [
        "class Person:\n",
        "  def __init__(self, student, pre, mid, fin):\n",
        "    self.__student = student\n",
        "    self.__pre = pre\n",
        "    self.__mid = mid\n",
        "    self.__fin = fin\n",
        "\n",
        "  def grades(self):\n",
        "    return (self.__pre + self.__mid + self.__fin) / 3\n",
        "\n",
        "  def display(self):\n",
        "    print(f\"This is {self.__student}\\n\")\n",
        "    print(f\"Prelim Grade: {self.__pre}\\n\")\n",
        "    print(f\"Midterm Grade: {self.__mid}\\n\")\n",
        "    print(f\"Final Grade: {self.__fin}\\n\")\n",
        "    print(f\"Average: {round(self.grades(),2)}\\n\")\n",
        "\n",
        "class Student_1(Person):\n",
        "  pass\n",
        "class Student_2(Person):\n",
        "  pass\n",
        "class Student_3(Person):\n",
        "  pass\n",
        "\n",
        "student1 = Student_1(\"Student 1\", 85, 82, 84)\n",
        "student1.display()\n",
        "\n",
        "student2 = Student_2(\"Student 2\", 81, 86, 89)\n",
        "student2.display()\n",
        "\n",
        "student3 = Student_3(\"Student 3\", 85, 85, 94)\n",
        "student3.display()\n",
        "\n",
        "\n",
        "\n",
        "\n",
        "\n",
        "\n",
        "\n",
        "\n",
        "\n",
        "\n",
        "\n",
        "\n"
      ]
    },
    {
      "cell_type": "code",
      "source": [],
      "metadata": {
        "id": "8mfOO50DcNUG"
      },
      "execution_count": null,
      "outputs": []
    }
  ]
}