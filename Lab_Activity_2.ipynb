{
  "nbformat": 4,
  "nbformat_minor": 0,
  "metadata": {
    "colab": {
      "provenance": [],
      "authorship_tag": "ABX9TyPgBCDQFHpSLRBR08N7iBi4",
      "include_colab_link": true
    },
    "kernelspec": {
      "name": "python3",
      "display_name": "Python 3"
    },
    "language_info": {
      "name": "python"
    }
  },
  "cells": [
    {
      "cell_type": "markdown",
      "metadata": {
        "id": "view-in-github",
        "colab_type": "text"
      },
      "source": [
        "<a href=\"https://colab.research.google.com/github/claydearnaiz/OOP-58001/blob/main/Lab_Activity_2.ipynb\" target=\"_parent\"><img src=\"https://colab.research.google.com/assets/colab-badge.svg\" alt=\"Open In Colab\"/></a>"
      ]
    },
    {
      "cell_type": "markdown",
      "source": [
        "**Write a Python program that asks the user to enter the radius of a circle and solve its area and perimeter.**"
      ],
      "metadata": {
        "id": "n5TLDj0Ufldi"
      }
    },
    {
      "cell_type": "code",
      "source": [
        "import math\n",
        "\n",
        "radius = float(input(\"Enter the radius of the circle: \"))\n",
        "area = math.pi * radius ** 2\n",
        "perimeter = 2 * math.pi * radius\n",
        "\n",
        "print(f\"The area of the circle with radius {radius} is {area:.2f}.\")\n",
        "print(f\"The perimeter of the circle with radius {radius} is {perimeter:.2f}.\")\n"
      ],
      "metadata": {
        "colab": {
          "base_uri": "https://localhost:8080/"
        },
        "id": "cw6XGyilfnM7",
        "outputId": "8cf74220-8203-40db-b05d-29e24b395258"
      },
      "execution_count": null,
      "outputs": [
        {
          "output_type": "stream",
          "name": "stdout",
          "text": [
            "Enter the radius of the circle: 5\n",
            "The area of the circle with radius 5.0 is 78.54.\n",
            "The perimeter of the circle with radius 5.0 is 31.42.\n"
          ]
        }
      ]
    },
    {
      "cell_type": "markdown",
      "source": [
        "**Create a class name Circle allowing you to build a circle with radius and pi attributes.**"
      ],
      "metadata": {
        "id": "thF-xCa0gviE"
      }
    },
    {
      "cell_type": "code",
      "source": [
        "import math\n",
        "\n",
        "class Circle:\n",
        "  def __init__(self, radius):\n",
        "    self.radius = radius\n",
        "    self.pi = math.pi\n",
        "\n",
        "  def area(self):\n",
        "    return self.pi * self.radius ** 2\n",
        "  \n",
        "  def perimeter(self):\n",
        "    return 2 * self.pi * self.radius\n",
        "\n",
        "  def display(self):\n",
        "    print(f\"Radius: {self.radius}\")\n",
        "    print(f\"Area: {self.area():.2f}\")\n",
        "    print(f\"Perimeter: {self.perimeter():.2f}\")\n",
        "\n",
        "\n",
        "my_circle = Circle(25)\n",
        "my_circle.display()"
      ],
      "metadata": {
        "colab": {
          "base_uri": "https://localhost:8080/"
        },
        "id": "T-yMe9n6gxe6",
        "outputId": "4aaf4859-2b28-478a-add7-3cf779d595f8"
      },
      "execution_count": null,
      "outputs": [
        {
          "output_type": "stream",
          "name": "stdout",
          "text": [
            "Radius: 25\n",
            "Area: 1963.50\n",
            "Perimeter: 157.08\n"
          ]
        }
      ]
    }
  ]
}