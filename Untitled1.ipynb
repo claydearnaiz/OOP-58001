{
  "nbformat": 4,
  "nbformat_minor": 0,
  "metadata": {
    "colab": {
      "provenance": [],
      "authorship_tag": "ABX9TyPRBGTFZYUOxe1PLj4UAJbg",
      "include_colab_link": true
    },
    "kernelspec": {
      "name": "python3",
      "display_name": "Python 3"
    },
    "language_info": {
      "name": "python"
    }
  },
  "cells": [
    {
      "cell_type": "markdown",
      "metadata": {
        "id": "view-in-github",
        "colab_type": "text"
      },
      "source": [
        "<a href=\"https://colab.research.google.com/github/claydearnaiz/OOP-58001/blob/main/Untitled1.ipynb\" target=\"_parent\"><img src=\"https://colab.research.google.com/assets/colab-badge.svg\" alt=\"Open In Colab\"/></a>"
      ]
    },
    {
      "cell_type": "markdown",
      "source": [
        "Loop Statement"
      ],
      "metadata": {
        "id": "u2eTjcrkaLw6"
      }
    },
    {
      "cell_type": "code",
      "source": [
        "week = [\"Sunday\" , \"Monday\" , \"Tuesday\" , \"Wednesday\" , \"Thursday\", \"Friday\" , \"Saturday\"]\n",
        "for x in week:\n",
        "  print(x)\n",
        "  if x == \"Saturday\":\n",
        "    break\n"
      ],
      "metadata": {
        "colab": {
          "base_uri": "https://localhost:8080/"
        },
        "id": "Y9yIHKYPaMiy",
        "outputId": "fb3851c1-7ae8-407b-8b27-0058090317db"
      },
      "execution_count": 6,
      "outputs": [
        {
          "output_type": "stream",
          "name": "stdout",
          "text": [
            "Sunday\n",
            "Monday\n",
            "Tuesday\n",
            "Wednesday\n",
            "Thursday\n",
            "Friday\n",
            "Saturday\n"
          ]
        }
      ]
    },
    {
      "cell_type": "markdown",
      "source": [
        "Double"
      ],
      "metadata": {
        "id": "E4LOLysSbSQS"
      }
    },
    {
      "cell_type": "code",
      "source": [
        "#print thursday and friday only\n",
        "week = [\"Sunday\" , \"Monday\" , \"Tuesday\" , \"Wednesday\" , \"Thursday\", \"Friday\" , \"Saturday\"]\n",
        "for x in week:\n",
        "  \n",
        "  if x == \"Thursday\":\n",
        "    print(x)\n",
        "  if x == \"Friday\":\n",
        "    print(x)\n",
        "    break\n"
      ],
      "metadata": {
        "colab": {
          "base_uri": "https://localhost:8080/"
        },
        "id": "1wjOK39AeeqR",
        "outputId": "b79213da-63ec-45c0-cb03-0ba9f145780c"
      },
      "execution_count": 10,
      "outputs": [
        {
          "output_type": "stream",
          "name": "stdout",
          "text": [
            "Thursday\n",
            "Friday\n"
          ]
        }
      ]
    },
    {
      "cell_type": "markdown",
      "source": [
        "sad"
      ],
      "metadata": {
        "id": "Jm-42IT0e3mh"
      }
    },
    {
      "cell_type": "code",
      "source": [
        "adjective = [\"red\" , \"big\" , \"tasty\"]\n",
        "fruits = [\"apple\", \"banana\", \"cherry\"]\n",
        "\n",
        "for x in adjective:\n",
        "  for y in fruits:\n",
        "    print(x,y)\n"
      ],
      "metadata": {
        "colab": {
          "base_uri": "https://localhost:8080/"
        },
        "id": "yOwFmi7Ee6Jp",
        "outputId": "6bbff301-7c89-41e9-cc29-d3e0e46025cb"
      },
      "execution_count": 17,
      "outputs": [
        {
          "output_type": "stream",
          "name": "stdout",
          "text": [
            "red apple\n",
            "red banana\n",
            "red cherry\n",
            "big apple\n",
            "big banana\n",
            "big cherry\n",
            "tasty apple\n",
            "tasty banana\n",
            "tasty cherry\n"
          ]
        }
      ]
    },
    {
      "cell_type": "markdown",
      "source": [
        "While Loop"
      ],
      "metadata": {
        "id": "8Yz5RnIRgX-Z"
      }
    },
    {
      "cell_type": "code",
      "source": [
        "i = 10\n",
        "while i >= 0:\n",
        "  print(i)\n",
        "  i -= 1 #i = i - 1 assignment operator"
      ],
      "metadata": {
        "colab": {
          "base_uri": "https://localhost:8080/"
        },
        "id": "mM1ult8sgZUI",
        "outputId": "5704c615-48da-48f6-f580-f8f3c7db1692"
      },
      "execution_count": 25,
      "outputs": [
        {
          "output_type": "stream",
          "name": "stdout",
          "text": [
            "10\n",
            "9\n",
            "8\n",
            "7\n",
            "6\n",
            "5\n",
            "4\n",
            "3\n",
            "2\n",
            "1\n",
            "0\n"
          ]
        }
      ]
    },
    {
      "cell_type": "markdown",
      "source": [
        "While Loop Break Statement"
      ],
      "metadata": {
        "id": "2AcM7pNThFqJ"
      }
    },
    {
      "cell_type": "code",
      "source": [
        "i = 1\n",
        "while i <= 6:\n",
        "  print(i)\n",
        "  if i == 3:\n",
        "    break\n",
        "  i += 1"
      ],
      "metadata": {
        "colab": {
          "base_uri": "https://localhost:8080/"
        },
        "id": "DViEFvyThHr5",
        "outputId": "0b5d1e4c-2274-48cf-ba5e-a9cd6868da0d"
      },
      "execution_count": 35,
      "outputs": [
        {
          "output_type": "stream",
          "name": "stdout",
          "text": [
            "1\n",
            "2\n",
            "3\n"
          ]
        }
      ]
    },
    {
      "cell_type": "code",
      "source": [
        "i = 1\n",
        "while i < 6:\n",
        "  print(i)\n",
        "  i += 1\n",
        "else:\n",
        "  print(\"i is no longer less than 6\")\n"
      ],
      "metadata": {
        "colab": {
          "base_uri": "https://localhost:8080/"
        },
        "id": "mN_n22RMi3JR",
        "outputId": "a0842788-9cea-4f18-980d-c77cf5a0a99d"
      },
      "execution_count": 38,
      "outputs": [
        {
          "output_type": "stream",
          "name": "stdout",
          "text": [
            "1\n",
            "2\n",
            "3\n",
            "4\n",
            "5\n",
            "i is no longer less than 6\n"
          ]
        }
      ]
    },
    {
      "cell_type": "markdown",
      "source": [
        "Lets Try!"
      ],
      "metadata": {
        "id": "9UdHWyIPjU3Y"
      }
    },
    {
      "cell_type": "code",
      "source": [
        "i = 1\n",
        "while i <= 10:\n",
        "  print(\"Hello\", i)\n",
        "  i += 1"
      ],
      "metadata": {
        "colab": {
          "base_uri": "https://localhost:8080/"
        },
        "id": "FKxUuf-ZjWV4",
        "outputId": "7bbb3b6c-4f7d-4bb0-c6cc-15616ff2be11"
      },
      "execution_count": 40,
      "outputs": [
        {
          "output_type": "stream",
          "name": "stdout",
          "text": [
            "Hello 1\n",
            "Hello 2\n",
            "Hello 3\n",
            "Hello 4\n",
            "Hello 5\n",
            "Hello 6\n",
            "Hello 7\n",
            "Hello 8\n",
            "Hello 9\n",
            "Hello 10\n"
          ]
        }
      ]
    },
    {
      "cell_type": "code",
      "source": [
        "Application 2"
      ],
      "metadata": {
        "id": "WzWnGVHmkSLY"
      },
      "execution_count": null,
      "outputs": []
    },
    {
      "cell_type": "code",
      "source": [
        "i = 10\n",
        "while i <= 10:\n",
        "  i -= 1\n",
        "  print(i)\n",
        "  if i == 3:\n",
        "    break\n",
        "\n"
      ],
      "metadata": {
        "colab": {
          "base_uri": "https://localhost:8080/"
        },
        "id": "WsyGcgB_kUGA",
        "outputId": "dbdd57cf-e388-43c1-b947-003991bbad7a"
      },
      "execution_count": 56,
      "outputs": [
        {
          "output_type": "stream",
          "name": "stdout",
          "text": [
            "9\n",
            "8\n",
            "7\n",
            "6\n",
            "5\n",
            "4\n",
            "3\n"
          ]
        }
      ]
    },
    {
      "cell_type": "code",
      "source": [],
      "metadata": {
        "id": "j0hUD6jHmgf3"
      },
      "execution_count": null,
      "outputs": []
    }
  ]
}