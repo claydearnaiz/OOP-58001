{
  "nbformat": 4,
  "nbformat_minor": 0,
  "metadata": {
    "colab": {
      "provenance": [],
      "authorship_tag": "ABX9TyOk2u+lKSUKk/mnDbtm2dyG",
      "include_colab_link": true
    },
    "kernelspec": {
      "name": "python3",
      "display_name": "Python 3"
    },
    "language_info": {
      "name": "python"
    }
  },
  "cells": [
    {
      "cell_type": "markdown",
      "metadata": {
        "id": "view-in-github",
        "colab_type": "text"
      },
      "source": [
        "<a href=\"https://colab.research.google.com/github/claydearnaiz/OOP-58001/blob/main/Fundamentals_of_Computing_in_Python.ipynb\" target=\"_parent\"><img src=\"https://colab.research.google.com/assets/colab-badge.svg\" alt=\"Open In Colab\"/></a>"
      ]
    },
    {
      "cell_type": "markdown",
      "source": [
        "Functions"
      ],
      "metadata": {
        "id": "HVIvEOLpLiUO"
      }
    },
    {
      "cell_type": "code",
      "source": [
        "class shapes:\n",
        "  def __init__(self, length, width):\n",
        "    self.length = length\n",
        "    self.width = width\n",
        "\n",
        "  def area(self):\n",
        "    return self.length * self.width\n",
        "  def areasqr(self):\n",
        "    return self.side**2\n",
        "    \n",
        "rectangle = shapes(10,5)\n",
        "rectangle.area()\n",
        "\n"
      ],
      "metadata": {
        "colab": {
          "base_uri": "https://localhost:8080/"
        },
        "id": "YGoDmqqYL9bX",
        "outputId": "75603f7e-180b-4a39-ae06-0c17eb6abbcc"
      },
      "execution_count": 4,
      "outputs": [
        {
          "output_type": "execute_result",
          "data": {
            "text/plain": [
              "50"
            ]
          },
          "metadata": {},
          "execution_count": 4
        }
      ]
    },
    {
      "cell_type": "code",
      "source": [
        "class person:\n",
        "  def __init__(self, name, age):\n",
        "    self.name = name\n",
        "    self.age = age\n",
        "  \n",
        "  def myname(self):\n",
        "    print(\"My name is \" + self.name)\n",
        "\n",
        "  def myage(self):\n",
        "    print(\"My age is \" + self.age + \" years old\")\n",
        "\n",
        "info = person(\"Clayde Nhicos A. Arnaiz\", \"19\")\n",
        "info.myname()\n",
        "info.myage()"
      ],
      "metadata": {
        "colab": {
          "base_uri": "https://localhost:8080/"
        },
        "id": "XdYtnLPvPeCA",
        "outputId": "1f2b56ac-cf97-4d9d-9ef6-47ea373a8acb"
      },
      "execution_count": 16,
      "outputs": [
        {
          "output_type": "stream",
          "name": "stdout",
          "text": [
            "My name is Clayde Nhicos A. Arnaiz\n",
            "My age is 19 years old\n"
          ]
        }
      ]
    },
    {
      "cell_type": "markdown",
      "source": [
        "List"
      ],
      "metadata": {
        "id": "IN9xzg8KVg-Q"
      }
    },
    {
      "cell_type": "code",
      "source": [
        "pi = 3.14159\n",
        "varList = [\"ABC\" , 1 , \"def\", 2]\n",
        "print(varList[0])\n",
        "varList.append(\"ghl\")\n",
        "print(varList)\n",
        "varList.remove(2)\n",
        "print(varList)\n",
        "varList.insert(3,3)\n",
        "print(varList)\n",
        "\n"
      ],
      "metadata": {
        "colab": {
          "base_uri": "https://localhost:8080/"
        },
        "id": "izKHbwXdVhrv",
        "outputId": "51578bb9-2faa-4d3d-e23b-ff9c318a44dc"
      },
      "execution_count": 17,
      "outputs": [
        {
          "output_type": "stream",
          "name": "stdout",
          "text": [
            "ABC\n",
            "['ABC', 1, 'def', 2, 'ghl']\n",
            "['ABC', 1, 'def', 'ghl']\n",
            "['ABC', 1, 'def', 3, 'ghl']\n"
          ]
        }
      ]
    },
    {
      "cell_type": "markdown",
      "source": [
        "Dictionaries"
      ],
      "metadata": {
        "id": "QknuNiB7WGgQ"
      }
    },
    {
      "cell_type": "code",
      "source": [
        "students = {\n",
        "    1: \"clayde\",\n",
        "    2: \"nhicos\",\n",
        "    3: \"arnaiz\"\n",
        "}\n",
        "print(students)"
      ],
      "metadata": {
        "colab": {
          "base_uri": "https://localhost:8080/"
        },
        "id": "Y6jv-cTEWHXf",
        "outputId": "4a3fdfae-c2bd-4793-dc4b-506de661fc5b"
      },
      "execution_count": 21,
      "outputs": [
        {
          "output_type": "stream",
          "name": "stdout",
          "text": [
            "{1: 'clayde', 2: 'nhicos', 3: 'arnaiz'}\n"
          ]
        }
      ]
    }
  ]
}