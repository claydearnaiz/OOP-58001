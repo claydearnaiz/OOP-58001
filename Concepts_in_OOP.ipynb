{
  "nbformat": 4,
  "nbformat_minor": 0,
  "metadata": {
    "colab": {
      "provenance": [],
      "authorship_tag": "ABX9TyMZJMBpUdiGdXrGCY7v967S",
      "include_colab_link": true
    },
    "kernelspec": {
      "name": "python3",
      "display_name": "Python 3"
    },
    "language_info": {
      "name": "python"
    }
  },
  "cells": [
    {
      "cell_type": "markdown",
      "metadata": {
        "id": "view-in-github",
        "colab_type": "text"
      },
      "source": [
        "<a href=\"https://colab.research.google.com/github/claydearnaiz/OOP-58001/blob/main/Concepts_in_OOP.ipynb\" target=\"_parent\"><img src=\"https://colab.research.google.com/assets/colab-badge.svg\" alt=\"Open In Colab\"/></a>"
      ]
    },
    {
      "cell_type": "code",
      "execution_count": null,
      "metadata": {
        "id": "ky7ykMw5PYDR"
      },
      "outputs": [],
      "source": [
        "#Class Constructor\n",
        "class Car:\n",
        "  pass\n"
      ]
    },
    {
      "cell_type": "code",
      "source": [
        "#Create a class\n",
        "\n",
        "class myNumber:\n",
        "  x = 5\n",
        "\n",
        "num1 = myNumber()\n",
        "print(num1.x)"
      ],
      "metadata": {
        "colab": {
          "base_uri": "https://localhost:8080/"
        },
        "id": "4kYLmTitPgX5",
        "outputId": "18390042-5bff-4301-dbdf-c959b8f54ca2"
      },
      "execution_count": 2,
      "outputs": [
        {
          "output_type": "stream",
          "name": "stdout",
          "text": [
            "5\n"
          ]
        }
      ]
    },
    {
      "cell_type": "code",
      "source": [
        "class Person:\n",
        "  def __init__(self, name, age):\n",
        "    self.name = name\n",
        "    self.age = age\n",
        "  def myFunction(self):\n",
        "    print(\"Hello, my name is\", self.name)\n",
        "\n",
        "person = Person(\"Clayde\",19)\n",
        "\n",
        "person.myFunction()"
      ],
      "metadata": {
        "colab": {
          "base_uri": "https://localhost:8080/"
        },
        "id": "JiXkJnG0QGEt",
        "outputId": "e370f8c6-0fd1-4cfa-e14a-6481a5791701"
      },
      "execution_count": 9,
      "outputs": [
        {
          "output_type": "stream",
          "name": "stdout",
          "text": [
            "Hello, my name is Clayde\n"
          ]
        }
      ]
    },
    {
      "cell_type": "code",
      "source": [
        "#Modify the Object Properties\n",
        "\n",
        "person.name = \"Clayde\"\n",
        "print(person.name)\n",
        "person.myFunction()\n"
      ],
      "metadata": {
        "colab": {
          "base_uri": "https://localhost:8080/"
        },
        "id": "yFWp-TZARjOc",
        "outputId": "c9698ac1-623f-4e41-9297-5ac73e95153a"
      },
      "execution_count": 12,
      "outputs": [
        {
          "output_type": "stream",
          "name": "stdout",
          "text": [
            "Clayde\n",
            "Hello, my name is Clayde\n"
          ]
        }
      ]
    },
    {
      "cell_type": "code",
      "source": [
        "class Student:\n",
        "  def __init__(self, fullname, student_number, school):\n",
        "    self.fullname = fullname\n",
        "    self.student_number = student_number\n",
        "    self.school = school\n",
        "  \n",
        "  def display(self):\n",
        "    print(f\"Fullname: {self.fullname}\\nStudent Number: {self.student_number}\\nSchool: {self.school}\")\n",
        "\n",
        "student = Student(\"Clayde Nhicos A. Arnaiz\",202210295, \"Adamson University\")\n",
        "student.display()\n"
      ],
      "metadata": {
        "colab": {
          "base_uri": "https://localhost:8080/"
        },
        "id": "ESVXwcy7Q4Tb",
        "outputId": "caeb3558-9e90-4894-fea3-af72da962347"
      },
      "execution_count": 17,
      "outputs": [
        {
          "output_type": "stream",
          "name": "stdout",
          "text": [
            "Fullname: Clayde Nhicos A. Arnaiz\n",
            "Student Number: 202210295\n",
            "School: Adamson University\n"
          ]
        }
      ]
    }
  ]
}