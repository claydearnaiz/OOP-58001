{
  "nbformat": 4,
  "nbformat_minor": 0,
  "metadata": {
    "colab": {
      "provenance": [],
      "include_colab_link": true
    },
    "kernelspec": {
      "name": "python3",
      "display_name": "Python 3"
    },
    "language_info": {
      "name": "python"
    }
  },
  "cells": [
    {
      "cell_type": "markdown",
      "metadata": {
        "id": "view-in-github",
        "colab_type": "text"
      },
      "source": [
        "<a href=\"https://colab.research.google.com/github/claydearnaiz/OOP-58001/blob/main/Fundamental_of_Python.ipynb\" target=\"_parent\"><img src=\"https://colab.research.google.com/assets/colab-badge.svg\" alt=\"Open In Colab\"/></a>"
      ]
    },
    {
      "cell_type": "markdown",
      "source": [
        "Indentation"
      ],
      "metadata": {
        "id": "j5BNflDLRl8M"
      }
    },
    {
      "cell_type": "code",
      "source": [
        "if 5 > 2:\n",
        "  print(\"five is greater than 2\")"
      ],
      "metadata": {
        "colab": {
          "base_uri": "https://localhost:8080/"
        },
        "id": "IUtuPT4qRyQT",
        "outputId": "5a7d92a6-8039-4459-d21b-19849beb8ad2"
      },
      "execution_count": null,
      "outputs": [
        {
          "output_type": "stream",
          "name": "stdout",
          "text": [
            "five is greater than 2\n"
          ]
        }
      ]
    },
    {
      "cell_type": "markdown",
      "source": [
        "Python Comment"
      ],
      "metadata": {
        "id": "INaWE_HxSWmF"
      }
    },
    {
      "cell_type": "code",
      "source": [
        "#This is a comment\n",
        "print(\"hello world\")"
      ],
      "metadata": {
        "colab": {
          "base_uri": "https://localhost:8080/"
        },
        "id": "8mSCK7P7SXqU",
        "outputId": "e563aca8-fce0-4323-cc14-22b2d91cbb88"
      },
      "execution_count": null,
      "outputs": [
        {
          "output_type": "stream",
          "name": "stdout",
          "text": [
            "hello world\n"
          ]
        }
      ]
    },
    {
      "cell_type": "markdown",
      "source": [
        "Python Variable (Case Sensitive -Python)\n"
      ],
      "metadata": {
        "id": "VeJPHHLCSsdM"
      }
    },
    {
      "cell_type": "code",
      "source": [
        "#Single variable with single value\n",
        "x = 1\n",
        "\n",
        "#Single variable with multiple values\n",
        "array = [1,2,3]\n",
        "print (array)\n",
        "\n",
        "#Multiple variable with single values\n",
        "a = b = c = \"Clayde\"\n",
        "print (a)\n",
        "print (b)\n",
        "print (c)"
      ],
      "metadata": {
        "colab": {
          "base_uri": "https://localhost:8080/"
        },
        "id": "kMfoijKATTyc",
        "outputId": "734e003b-8b11-4eb6-863c-5bca0ef528f1"
      },
      "execution_count": null,
      "outputs": [
        {
          "output_type": "stream",
          "name": "stdout",
          "text": [
            "[1, 2, 3]\n",
            "Clayde\n",
            "Clayde\n",
            "Clayde\n"
          ]
        }
      ]
    },
    {
      "cell_type": "markdown",
      "source": [
        "Casting"
      ],
      "metadata": {
        "id": "jA5CiWxSU9d0"
      }
    },
    {
      "cell_type": "code",
      "source": [
        "b = \"sally\"\n",
        "b = int(2)\n",
        "print (b)\n",
        "\n",
        "b = float(5)\n",
        "print (b)"
      ],
      "metadata": {
        "colab": {
          "base_uri": "https://localhost:8080/"
        },
        "id": "AHEc195IVAnz",
        "outputId": "347f4929-6889-428c-fcd1-76acbe677541"
      },
      "execution_count": 4,
      "outputs": [
        {
          "output_type": "stream",
          "name": "stdout",
          "text": [
            "2\n",
            "5.0\n"
          ]
        }
      ]
    },
    {
      "cell_type": "markdown",
      "source": [
        "Type() function"
      ],
      "metadata": {
        "id": "-ENLUTFH_KjP"
      }
    },
    {
      "cell_type": "code",
      "source": [
        "x = 5\n",
        "y = \"Clayde\"\n",
        "print(type(x))\n",
        "print(type(y))\n"
      ],
      "metadata": {
        "id": "pCaJw7Fm_MCJ",
        "outputId": "fb61372a-67b4-4df7-e663-1ff09664f21f",
        "colab": {
          "base_uri": "https://localhost:8080/"
        }
      },
      "execution_count": 1,
      "outputs": [
        {
          "output_type": "stream",
          "name": "stdout",
          "text": [
            "<class 'int'>\n",
            "<class 'str'>\n"
          ]
        }
      ]
    },
    {
      "cell_type": "markdown",
      "source": [
        "  Case Sensitive"
      ],
      "metadata": {
        "id": "BjdQ8gCXRMRW"
      }
    },
    {
      "cell_type": "code",
      "source": [
        "a = 4\n",
        "A = \"Sally\"\n",
        "\n",
        "print (a)\n",
        "print (A)"
      ],
      "metadata": {
        "id": "vYiGL7_pROVr",
        "outputId": "d9316aab-cb78-4e3d-a705-4982bd57dd49",
        "colab": {
          "base_uri": "https://localhost:8080/"
        }
      },
      "execution_count": 5,
      "outputs": [
        {
          "output_type": "stream",
          "name": "stdout",
          "text": [
            "4\n",
            "Sally\n"
          ]
        }
      ]
    },
    {
      "cell_type": "markdown",
      "source": [
        "Output Variables"
      ],
      "metadata": {
        "id": "Qj2mM89xRdAY"
      }
    },
    {
      "cell_type": "code",
      "source": [
        "a = \"enjoying\"\n",
        "print(\"Python programming is very fun and \" + a)\n",
        "\n",
        "x = \"I would like to \"\n",
        "y = \"learn more about python.\"\n",
        "\n",
        "z = x + y\n",
        "print (z)"
      ],
      "metadata": {
        "id": "jIMUfGZcReV8",
        "outputId": "19835a95-23e9-4593-ed5e-3fcc6a0d29db",
        "colab": {
          "base_uri": "https://localhost:8080/"
        }
      },
      "execution_count": 9,
      "outputs": [
        {
          "output_type": "stream",
          "name": "stdout",
          "text": [
            "Python programming is very fun and enjoying\n",
            "I would like to learn more about python.\n"
          ]
        }
      ]
    },
    {
      "cell_type": "markdown",
      "source": [
        "Arithmetic Operations"
      ],
      "metadata": {
        "id": "0dDQ12dfR3-9"
      }
    },
    {
      "cell_type": "code",
      "source": [
        "x = 20\n",
        "y = 5\n",
        "\n",
        "print (x / y)"
      ],
      "metadata": {
        "id": "8KTmj-NeR7vC",
        "outputId": "79a2d1b6-5387-4842-b628-8f159aa43aff",
        "colab": {
          "base_uri": "https://localhost:8080/"
        }
      },
      "execution_count": 10,
      "outputs": [
        {
          "output_type": "stream",
          "name": "stdout",
          "text": [
            "4.0\n"
          ]
        }
      ]
    },
    {
      "cell_type": "markdown",
      "source": [
        "Comparison Operators"
      ],
      "metadata": {
        "id": "gy2mrdVWSoMH"
      }
    },
    {
      "cell_type": "code",
      "source": [
        "x = 4\n",
        "y = 7\n",
        "\n",
        "not(x > 2 and y < 8)\n",
        "\n",
        "#Returns false if the statement is true"
      ],
      "metadata": {
        "id": "Q1noa7X5Sp49",
        "outputId": "d1cd676c-cbe2-4299-9977-4ada07719645",
        "colab": {
          "base_uri": "https://localhost:8080/"
        }
      },
      "execution_count": 20,
      "outputs": [
        {
          "output_type": "execute_result",
          "data": {
            "text/plain": [
              "False"
            ]
          },
          "metadata": {},
          "execution_count": 20
        }
      ]
    },
    {
      "cell_type": "code",
      "source": [
        "x = 3\n",
        "y = 15\n",
        "\n",
        "x < 5 or y > 5\n",
        "\n",
        "#Returns true if one of the statement is correct\n",
        "\n",
        "# and returns true if both are correct"
      ],
      "metadata": {
        "id": "ZLYo0u_jTnRT",
        "outputId": "c7677a1a-a932-4cae-8d9c-3347e01c4d87",
        "colab": {
          "base_uri": "https://localhost:8080/"
        }
      },
      "execution_count": 21,
      "outputs": [
        {
          "output_type": "execute_result",
          "data": {
            "text/plain": [
              "True"
            ]
          },
          "metadata": {},
          "execution_count": 21
        }
      ]
    },
    {
      "cell_type": "markdown",
      "source": [
        "Identity Operators"
      ],
      "metadata": {
        "id": "zihtG4gZT_Ub"
      }
    },
    {
      "cell_type": "code",
      "source": [
        "x = 1\n",
        "y = 2\n",
        "z = 5\n",
        "\n",
        "x is not z \n",
        "\n",
        "# is returns true if they have the same value\n",
        "# is not returns true if they don't have the same value"
      ],
      "metadata": {
        "id": "fpDkW2bDUAkJ",
        "outputId": "58b4db46-fec4-4bf3-8c29-af5f22e5e4b4",
        "colab": {
          "base_uri": "https://localhost:8080/"
        }
      },
      "execution_count": 25,
      "outputs": [
        {
          "output_type": "execute_result",
          "data": {
            "text/plain": [
              "True"
            ]
          },
          "metadata": {},
          "execution_count": 25
        }
      ]
    }
  ]
}